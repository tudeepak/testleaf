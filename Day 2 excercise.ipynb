{
 "cells": [
  {
   "cell_type": "markdown",
   "metadata": {},
   "source": [
    "# Exercise Day 2"
   ]
  },
  {
   "cell_type": "markdown",
   "metadata": {},
   "source": [
    "## \n",
    "Write a program to fetch the item only within range between 50 to 70\n",
    "lst = [34,67,55,33,12,98]\n",
    "\n",
    " Write a program to print only String data type value from the given List\n",
    "lst = ['abc', 100, 10.10, True, 'Babu']\n",
    "\n",
    "\n",
    " Write a program to replace only String values as none.\n",
    "lst = ['abc', 100, 10.10, True, 'Babu'] -------> [None, 100, 10.10, True, None]\n",
    "[9:00 PM, 10/25/2020] +91 95977 04568: for list & tuple:\n",
    "\n",
    "1. Write a program which accepts a sequence of comma-separated numbers from console and generate a list    and a tuple which contains every number.\n",
    "\t\n",
    "\tinput  : 34,67,55,33,12,98\n",
    "\toutput : ['34', '67', '55', '33', '12', '98']\n",
    "\t\t ('34', '67', '55', '33', '12', '98')\n",
    "\n",
    "\n",
    "\n",
    "2. With a given tuple (1,2,3,4,5,6,7,8,9,10), write a program to print the first half values in one line    and the last half values in one line.\n",
    "\n",
    "\tinput  : (1,2,3,4,5,6,7,8,9,10, 11)\n",
    "\toutput : (1,2,3,4,5)\n",
    "\t\t (6,7,8,9,10)\n",
    "\n",
    "3. Write a program to generate and print another tuple whose values are even numbers in the given tuple \n",
    "\tinput  : (1,2,3,4,5,6,7,8,9,10)\n",
    "\toutput : (2, 4, 6, 8, 10)"
   ]
  },
  {
   "cell_type": "markdown",
   "metadata": {},
   "source": [
    "# 1. Write a program to fetch the item only within range between 50 to 70\n",
    "lst = [34,67,55,33,12,98]"
   ]
  },
  {
   "cell_type": "code",
   "execution_count": 4,
   "metadata": {},
   "outputs": [],
   "source": [
    "lst = [34,67,55,33,12,98]"
   ]
  },
  {
   "cell_type": "code",
   "execution_count": 10,
   "metadata": {},
   "outputs": [
    {
     "name": "stdout",
     "output_type": "stream",
     "text": [
      "67\n",
      "55\n"
     ]
    }
   ],
   "source": [
    "for a in lst:\n",
    "    if (a>50 and a<70):\n",
    "        print(a)\n",
    "    "
   ]
  },
  {
   "cell_type": "markdown",
   "metadata": {},
   "source": [
    "# 2.Write a program to print only String data type value from the given List\n",
    "lst = ['abc', 100, 10.10, True, 'Babu']"
   ]
  },
  {
   "cell_type": "code",
   "execution_count": 29,
   "metadata": {},
   "outputs": [],
   "source": [
    "lst = ['abc', 100, 10.10, True, \"Babu\"]"
   ]
  },
  {
   "cell_type": "code",
   "execution_count": 21,
   "metadata": {},
   "outputs": [
    {
     "data": {
      "text/plain": [
       "'Babu'"
      ]
     },
     "execution_count": 21,
     "metadata": {},
     "output_type": "execute_result"
    }
   ],
   "source": [
    "lst[4]"
   ]
  },
  {
   "cell_type": "code",
   "execution_count": 55,
   "metadata": {},
   "outputs": [
    {
     "ename": "SyntaxError",
     "evalue": "invalid syntax (<ipython-input-55-df7e55e678c3>, line 2)",
     "output_type": "error",
     "traceback": [
      "\u001b[1;36m  File \u001b[1;32m\"<ipython-input-55-df7e55e678c3>\"\u001b[1;36m, line \u001b[1;32m2\u001b[0m\n\u001b[1;33m    if ('str' not in lst)\u001b[0m\n\u001b[1;37m                         ^\u001b[0m\n\u001b[1;31mSyntaxError\u001b[0m\u001b[1;31m:\u001b[0m invalid syntax\n"
     ]
    }
   ],
   "source": [
    "for a in lst:\n",
    "    if ('str' not in lst)\n",
    "    print(a)"
   ]
  },
  {
   "cell_type": "code",
   "execution_count": 33,
   "metadata": {},
   "outputs": [],
   "source": [
    "tpl = (1,2,3,4,5,6,7,8,9,10)"
   ]
  },
  {
   "cell_type": "code",
   "execution_count": 51,
   "metadata": {
    "scrolled": true
   },
   "outputs": [
    {
     "data": {
      "text/plain": [
       "(1, 2, 3, 4, 5, 6, 7, 8, 9, 10)"
      ]
     },
     "execution_count": 51,
     "metadata": {},
     "output_type": "execute_result"
    }
   ],
   "source": [
    "tpl"
   ]
  },
  {
   "cell_type": "markdown",
   "metadata": {},
   "source": [
    "# 3. Write a program which accepts a sequence of comma-separated numbers from console and generate a list    and a tuple which contains every number.\n",
    "\t\n",
    "\tinput  : 34,67,55,33,12,98\n",
    "\toutput : ['34', '67', '55', '33', '12', '98']\n",
    "\t\t ('34', '67', '55', '33', '12', '98')"
   ]
  },
  {
   "cell_type": "code",
   "execution_count": 37,
   "metadata": {},
   "outputs": [
    {
     "ename": "SyntaxError",
     "evalue": "invalid syntax (<ipython-input-37-ddc035f4a23f>, line 3)",
     "output_type": "error",
     "traceback": [
      "\u001b[1;36m  File \u001b[1;32m\"<ipython-input-37-ddc035f4a23f>\"\u001b[1;36m, line \u001b[1;32m3\u001b[0m\n\u001b[1;33m    input i =\u001b[0m\n\u001b[1;37m          ^\u001b[0m\n\u001b[1;31mSyntaxError\u001b[0m\u001b[1;31m:\u001b[0m invalid syntax\n"
     ]
    }
   ],
   "source": [
    "list= 34,67,55,33,12,98\n",
    "\n"
   ]
  },
  {
   "cell_type": "markdown",
   "metadata": {},
   "source": [
    "# 4. With a given tuple (1,2,3,4,5,6,7,8,9,10), write a program to print the first half values in one line    and the last half values in one line.\n"
   ]
  },
  {
   "cell_type": "code",
   "execution_count": 52,
   "metadata": {},
   "outputs": [],
   "source": [
    "tpl = (1,2,3,4,5,6,7,8,9,10)"
   ]
  },
  {
   "cell_type": "code",
   "execution_count": 53,
   "metadata": {
    "scrolled": true
   },
   "outputs": [
    {
     "name": "stdout",
     "output_type": "stream",
     "text": [
      "(1, 2, 3, 4, 5)\n",
      "(6, 7, 8, 9, 10)\n"
     ]
    }
   ],
   "source": [
    "print (tpl[0:5])\n",
    "print (tpl[5:])"
   ]
  },
  {
   "cell_type": "markdown",
   "metadata": {},
   "source": [
    "# 5. Write a program to generate and print another tuple whose values are even numbers in the given tuple \n",
    "input  : (1,2,3,4,5,6,7,8,9,10)\n",
    "output : (2, 4, 6, 8, 10)"
   ]
  },
  {
   "cell_type": "code",
   "execution_count": 10,
   "metadata": {},
   "outputs": [
    {
     "name": "stdout",
     "output_type": "stream",
     "text": [
      "(2, 4, 6, 8, 10)\n"
     ]
    }
   ],
   "source": [
    "\n",
    "        \n",
    "tpl = (1,2,3,4,5,6,7,8,9,10)\n",
    "\n",
    "print(tpl[1::2])"
   ]
  }
 ],
 "metadata": {
  "kernelspec": {
   "display_name": "Python 3",
   "language": "python",
   "name": "python3"
  },
  "language_info": {
   "codemirror_mode": {
    "name": "ipython",
    "version": 3
   },
   "file_extension": ".py",
   "mimetype": "text/x-python",
   "name": "python",
   "nbconvert_exporter": "python",
   "pygments_lexer": "ipython3",
   "version": "3.8.3"
  }
 },
 "nbformat": 4,
 "nbformat_minor": 4
}
